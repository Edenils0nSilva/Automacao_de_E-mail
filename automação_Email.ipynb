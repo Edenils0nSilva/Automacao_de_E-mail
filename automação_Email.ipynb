{
 "cells": [
  {
   "cell_type": "code",
   "execution_count": null,
   "metadata": {},
   "outputs": [],
   "source": [
    "import pyautogui as pt\n",
    "import pyperclip as pc\n",
    "import time"
   ]
  },
  {
   "cell_type": "code",
   "execution_count": null,
   "metadata": {},
   "outputs": [],
   "source": [
    "pt.hotkey(\"ctrl\",\"t\")\n",
    "pt.write(\"google\")\n",
    "time.sleep(3)\n",
    "pt.press(\"enter\")\n",
    "time.sleep(4)\n",
    "pt.click(x=261, y=363)\n",
    "time.sleep(4)\n",
    "pt.click(x=130, y=217)\n",
    "time.sleep(2)\n",
    "pt.write(\"qualquer@email.com.br\")\n",
    "time.sleep(2)\n",
    "pt.press(\"TAB\")\n",
    "time.sleep(1)\n",
    "pt.press(\"TAB\")\n",
    "time.sleep(2)\n",
    "texto = \"\"\" \n",
    "KKKKKKKK KKKKKKKKK KKKKKKKKKKKK KKKKKKKKKKKK KKKKKKKKK KKKKKKK\n",
    "KKKKK KKKKKKK KKKKKKKK KKKKKKKKKK KKKKKKKKKK KKKKKKKKKK KKKKKK\n",
    "KKKK KKKKKKKK KKKKKKK KKKKKKKKKK KKKKKKKKKK KKKKKKKK KKKKKKKKK\n",
    "KKKKKKK KKKKKK KKKKKKKKKKKKK KKKKKKKK KKKKKKKKKKK KKKKKKK KKKK\n",
    "KKKK KKKKKKKK KKKKKKK KKKKKKKKKK KKKKKKKKKK KKKKKKKK KKKKKKKKK\n",
    "KKKKK KKKKKKK KKKKKKKKKKKKKKKKKK KKKKKKKK KKKKKKKKKKKKK KKKKKK\n",
    "KKKKK KKKKKKKKKKKKKKKKKKKKKKKKK KKKKKKKKKKKKKKKKKKKKKKKKKKKKKK\n",
    "KKKKKKKKKK KKKKKKKK KKKKKKKKK KKKKKK KKKKKKKKK KKKKKKKK KKKKKK\n",
    "KKKKKKKK KKKKKKKKK KKKKKKKKKKKK KKKKKKKKKKKK KKKKKKKKK KKKKKKK\n",
    "KKKKK KKKKKKK KKKKKKKK KKKKKKKKKK KKKKKKKKKK KKKKKKKKKK KKKKKK\n",
    "KKKKKKK KKKKKK KKKKKKKKKKKKK KKKKKKKK KKKKKKKKKKK KKKKKKK KKKK\n",
    "KKKK KKKKKKKK KKKKKKK KKKKKKKKKK KKKKKKKKKK KKKKKKKK KKKKKKKKK\n",
    "KKKKK KKKKKKKKK MENSAGEM QUE DESEJA ENVIAR KKKKKKKK KKKKKKKKKK\n",
    "KKKKK KKKKKKKKKKKKKKKKKKKKKKKKK KKKKKKKKKKKKKKKKKKKKKKKKKKKKKK\n",
    "KKKKKKKKKK KKKKKKKK KKKKKKKKK KKKKKK KKKKKKKKK KKKKKKKK KKKKKK\n",
    "KKKKKKKK KKKKKKKKK KKKKKKKKKKKK KKKKKKKKKKKK KKKKKKKKK KKKKKKK\n",
    "KKKKK KKKKKKK KKKKKKKK KKKKKKKKKK KKKKKKKKKK KKKKKKKKKK KKKKKK\n",
    "KKKKKKK KKKKKK KKKKKKKKKKKKK KKKKKKKK KKKKKKKKKKK KKKKKKK KKKK \n",
    "KKKK KKKKKKKK KKKKKKK KKKKKKKKKK KKKKKKKKKK KKKKKKKK KKKKKKKKK\n",
    "KKKKK KKKKKKK KKKKKKKKKKKKKKKKKK KKKKKKKK KKKKKKKKKKKKK KKKKKK\n",
    "KKKKK KKKKKKKKKKKKKKKKKKKKKKKKK KKKKKKKKKKKKKKKKKKKKKKKKKKKKKK\n",
    "KKKKKKKKKK KKKKKKKK KKKKKKKKK KKKKKK KKKKKKKKK KKKKKKKK KKKKKK\n",
    "KKKKKKKK KKKKKKKKK KKKKKKKKKKKK KKKKKKKKKKKK KKKKKKKKK KKKKKKK\n",
    "KKKKK KKKKKKK KKKKKKKK KKKKKKKKKK KKKKKKKKKK KKKKKKKKKK KKKKKK\n",
    "KKKKKKK KKKKKK KKKKKKKKKKKKK KKKKKKKK KKKKKKKKKKK KKKKKKK KKKK\n",
    "\n",
    "\"\"\"\n",
    "\n",
    "pc.copy(texto)\n",
    "time.sleep(2)\n",
    "pt.hotkey(\"ctrl\", \"v\")\n",
    "time.sleep(1)\n",
    "pt.hotkey(\"ctrl\", \"enter\")"
   ]
  },
  {
   "cell_type": "code",
   "execution_count": null,
   "metadata": {},
   "outputs": [],
   "source": [
    "#PEGAR O LOCAL EXATO DE ONDE CLICA\n",
    "time.sleep(5)\n",
    "print(pt.position())"
   ]
  }
 ],
 "metadata": {
  "language_info": {
   "name": "python"
  },
  "orig_nbformat": 4
 },
 "nbformat": 4,
 "nbformat_minor": 2
}
